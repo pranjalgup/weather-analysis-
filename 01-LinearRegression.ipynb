{
 "cells": [
  {
   "cell_type": "code",
   "execution_count": 165,
   "id": "82231630",
   "metadata": {},
   "outputs": [
    {
     "data": {
      "text/html": [
       "<div>\n",
       "<style scoped>\n",
       "    .dataframe tbody tr th:only-of-type {\n",
       "        vertical-align: middle;\n",
       "    }\n",
       "\n",
       "    .dataframe tbody tr th {\n",
       "        vertical-align: top;\n",
       "    }\n",
       "\n",
       "    .dataframe thead th {\n",
       "        text-align: right;\n",
       "    }\n",
       "</style>\n",
       "<table border=\"1\" class=\"dataframe\">\n",
       "  <thead>\n",
       "    <tr style=\"text-align: right;\">\n",
       "      <th></th>\n",
       "      <th>Temperature(C)</th>\n",
       "      <th>Humidity</th>\n",
       "    </tr>\n",
       "  </thead>\n",
       "  <tbody>\n",
       "    <tr>\n",
       "      <th>0</th>\n",
       "      <td>9.472222</td>\n",
       "      <td>0.89</td>\n",
       "    </tr>\n",
       "    <tr>\n",
       "      <th>1</th>\n",
       "      <td>9.355556</td>\n",
       "      <td>0.86</td>\n",
       "    </tr>\n",
       "    <tr>\n",
       "      <th>2</th>\n",
       "      <td>9.377778</td>\n",
       "      <td>0.89</td>\n",
       "    </tr>\n",
       "    <tr>\n",
       "      <th>3</th>\n",
       "      <td>8.288889</td>\n",
       "      <td>0.83</td>\n",
       "    </tr>\n",
       "    <tr>\n",
       "      <th>4</th>\n",
       "      <td>8.755556</td>\n",
       "      <td>0.83</td>\n",
       "    </tr>\n",
       "  </tbody>\n",
       "</table>\n",
       "</div>"
      ],
      "text/plain": [
       "   Temperature(C)  Humidity\n",
       "0        9.472222      0.89\n",
       "1        9.355556      0.86\n",
       "2        9.377778      0.89\n",
       "3        8.288889      0.83\n",
       "4        8.755556      0.83"
      ]
     },
     "execution_count": 165,
     "metadata": {},
     "output_type": "execute_result"
    }
   ],
   "source": [
    "# Imports\n",
    "# (1) pandas for reading the file\n",
    "# (2) matplotlib for plotting\n",
    "# (3) numpy for numerical python: Mathematical functions, arrays\n",
    "\n",
    "import pandas as pd\n",
    "import matplotlib.pyplot as plt\n",
    "import numpy as np\n",
    "\n",
    "wdf = pd.read_csv(\"data-files/WeatherData.csv\")\n",
    "#display(wdf)\n",
    "wdf.head()"
   ]
  },
  {
   "cell_type": "code",
   "execution_count": 166,
   "id": "2f43a641",
   "metadata": {},
   "outputs": [
    {
     "data": {
      "text/html": [
       "<div>\n",
       "<style scoped>\n",
       "    .dataframe tbody tr th:only-of-type {\n",
       "        vertical-align: middle;\n",
       "    }\n",
       "\n",
       "    .dataframe tbody tr th {\n",
       "        vertical-align: top;\n",
       "    }\n",
       "\n",
       "    .dataframe thead th {\n",
       "        text-align: right;\n",
       "    }\n",
       "</style>\n",
       "<table border=\"1\" class=\"dataframe\">\n",
       "  <thead>\n",
       "    <tr style=\"text-align: right;\">\n",
       "      <th></th>\n",
       "      <th>temp</th>\n",
       "      <th>Humidity</th>\n",
       "    </tr>\n",
       "  </thead>\n",
       "  <tbody>\n",
       "    <tr>\n",
       "      <th>0</th>\n",
       "      <td>9.472222</td>\n",
       "      <td>0.89</td>\n",
       "    </tr>\n",
       "    <tr>\n",
       "      <th>1</th>\n",
       "      <td>9.355556</td>\n",
       "      <td>0.86</td>\n",
       "    </tr>\n",
       "    <tr>\n",
       "      <th>2</th>\n",
       "      <td>9.377778</td>\n",
       "      <td>0.89</td>\n",
       "    </tr>\n",
       "    <tr>\n",
       "      <th>3</th>\n",
       "      <td>8.288889</td>\n",
       "      <td>0.83</td>\n",
       "    </tr>\n",
       "    <tr>\n",
       "      <th>4</th>\n",
       "      <td>8.755556</td>\n",
       "      <td>0.83</td>\n",
       "    </tr>\n",
       "  </tbody>\n",
       "</table>\n",
       "</div>"
      ],
      "text/plain": [
       "       temp  Humidity\n",
       "0  9.472222      0.89\n",
       "1  9.355556      0.86\n",
       "2  9.377778      0.89\n",
       "3  8.288889      0.83\n",
       "4  8.755556      0.83"
      ]
     },
     "execution_count": 166,
     "metadata": {},
     "output_type": "execute_result"
    }
   ],
   "source": [
    "# Renaming the columns\n",
    "wdf.rename(columns={'Temperature(C)':'temp', 'Humidity':'Humidity'}, inplace=True)\n",
    "wdf.head()"
   ]
  },
  {
   "cell_type": "code",
   "execution_count": 167,
   "id": "53b57b92",
   "metadata": {},
   "outputs": [
    {
     "data": {
      "text/plain": [
       "(array([0.3, 0.4, 0.5, 0.6, 0.7, 0.8, 0.9, 1. ]),\n",
       " [Text(0, 0, ''),\n",
       "  Text(0, 0, ''),\n",
       "  Text(0, 0, ''),\n",
       "  Text(0, 0, ''),\n",
       "  Text(0, 0, ''),\n",
       "  Text(0, 0, ''),\n",
       "  Text(0, 0, ''),\n",
       "  Text(0, 0, '')])"
      ]
     },
     "execution_count": 167,
     "metadata": {},
     "output_type": "execute_result"
    },
    {
     "data": {
      "image/png": "[encoded data removed]",
      "text/plain": [
       "<Figure size 432x288 with 1 Axes>"
      ]
     },
     "metadata": {
      "needs_background": "light"
     },
     "output_type": "display_data"
    }
   ],
   "source": [
    "# Data visualization: \n",
    "    # Check if Linear regression is applicable --> By plotting it\n",
    "\n",
    "plt.scatter(wdf.temp, wdf.Humidity, s = 15, c = \"blue\") # scatter Plot --> dots/points\n",
    "plt.xlabel(\"Temperature\", fontsize=15)\n",
    "plt.ylabel(\"Humidity\", fontsize=15)\n",
    "plt.xticks(fontsize=13, rotation=0)\n",
    "plt.yticks(fontsize=13, rotation=0)"
   ]
  },
  {
   "cell_type": "code",
   "execution_count": 168,
   "id": "2a9418b0",
   "metadata": {},
   "outputs": [
    {
     "data": {
      "text/html": [
       "<div>\n",
       "<style scoped>\n",
       "    .dataframe tbody tr th:only-of-type {\n",
       "        vertical-align: middle;\n",
       "    }\n",
       "\n",
       "    .dataframe tbody tr th {\n",
       "        vertical-align: top;\n",
       "    }\n",
       "\n",
       "    .dataframe thead th {\n",
       "        text-align: right;\n",
       "    }\n",
       "</style>\n",
       "<table border=\"1\" class=\"dataframe\">\n",
       "  <thead>\n",
       "    <tr style=\"text-align: right;\">\n",
       "      <th></th>\n",
       "      <th>temp</th>\n",
       "    </tr>\n",
       "  </thead>\n",
       "  <tbody>\n",
       "    <tr>\n",
       "      <th>0</th>\n",
       "      <td>9.472222</td>\n",
       "    </tr>\n",
       "    <tr>\n",
       "      <th>1</th>\n",
       "      <td>9.355556</td>\n",
       "    </tr>\n",
       "    <tr>\n",
       "      <th>2</th>\n",
       "      <td>9.377778</td>\n",
       "    </tr>\n",
       "    <tr>\n",
       "      <th>3</th>\n",
       "      <td>8.288889</td>\n",
       "    </tr>\n",
       "    <tr>\n",
       "      <th>4</th>\n",
       "      <td>8.755556</td>\n",
       "    </tr>\n",
       "  </tbody>\n",
       "</table>\n",
       "</div>"
      ],
      "text/plain": [
       "       temp\n",
       "0  9.472222\n",
       "1  9.355556\n",
       "2  9.377778\n",
       "3  8.288889\n",
       "4  8.755556"
      ]
     },
     "metadata": {},
     "output_type": "display_data"
    },
    {
     "data": {
      "text/plain": [
       "0    0.89\n",
       "1    0.86\n",
       "2    0.89\n",
       "3    0.83\n",
       "4    0.83\n",
       "Name: Humidity, dtype: float64"
      ]
     },
     "metadata": {},
     "output_type": "display_data"
    }
   ],
   "source": [
    "from sklearn.linear_model import LinearRegression\n",
    "\n",
    "# Prepare data to input as an argument in LinReg model (2d-array)\n",
    "features_df = wdf[['temp']]\n",
    "target_val   = wdf.Humidity\n",
    "\n",
    "# Other option for reshaping the data (2 make it 2-d array)\n",
    "    # if the data has only one point --> .reshape(1,-1)\n",
    "    # (1) features_df = wdf['temp'].values.reshape(-1,1) # --> convert to 2d array\n",
    "    # (2) features_df = pd.DataFrame({'temp': wdf.temp}) # --> create dataframe\n",
    "    # display(features_df) # finally you can display your data\n",
    "\n",
    "display(features_df.head())\n",
    "display(target_val.head())"
   ]
  },
  {
   "cell_type": "code",
   "execution_count": 169,
   "id": "0976e05f",
   "metadata": {},
   "outputs": [
    {
     "name": "stdout",
     "output_type": "stream",
     "text": [
      "\n",
      "Intercept: 1.1336757355537121, coeffecient: [-0.03522051]\n",
      "\n",
      "Mean Absolute Error = 0.041421689636499476\n",
      "\n"
     ]
    },
    {
     "data": {
      "text/plain": [
       "<matplotlib.legend.Legend at 0x7f80d0f29fd0>"
      ]
     },
     "execution_count": 169,
     "metadata": {},
     "output_type": "execute_result"
    },
    {
     "data": {
      "image/png": "[encoded data removed]",
      "text/plain": [
       "<Figure size 432x288 with 1 Axes>"
      ]
     },
     "metadata": {
      "needs_background": "light"
     },
     "output_type": "display_data"
    }
   ],
   "source": [
    "# Previously defined: \n",
    "features_df = wdf[['temp']]\n",
    "target_val  = wdf.Humidity\n",
    "\n",
    "from sklearn.metrics import mean_absolute_error\n",
    "\n",
    "# Define the model\n",
    "# LinearRegression(fit_intercept=True, normalize=False, copy_X=True)\n",
    "reg_model = LinearRegression()\n",
    "\n",
    "\n",
    "# fitting\n",
    "reg_model.fit(features_df, target_val)\n",
    "# Print fitted parameters\n",
    "print(f\"\\nIntercept: {reg_model.intercept_}, coeffecient: {reg_model.coef_}\")\n",
    "\n",
    "\n",
    "# What is the prediction ?\n",
    "        # Note: Make sure 'regressor (feature)' is again in the dataframe format\n",
    "prediction = reg_model.predict(wdf[['temp']])\n",
    "#display(prediction)\n",
    "\n",
    "\n",
    "# What is the Error?\n",
    "error = mean_absolute_error(target_val, prediction)\n",
    "print(f\"\\nMean Absolute Error = {error}\\n\")\n",
    "\n",
    "\n",
    "# How does prediction looks like? Actual Vs prediction\n",
    "    # --> Plot it with the actual data\n",
    "        # Plot options: s = point size, c = point color, alpha = transparency  \n",
    "plt.scatter(wdf.temp, wdf.Humidity, s = 25, c = \"blue\", alpha = 0.7, label = \"Data\")\n",
    "plt.xlabel(\"Temperature\", fontsize=15)\n",
    "plt.ylabel(\"Humidity\", fontsize=15)\n",
    "plt.xticks(fontsize=13, rotation=0)\n",
    "plt.yticks(fontsize=13, rotation=0)\n",
    "plt.title(f\"Model parameters:\\nItrcpt = {reg_model.intercept_}\\nCoeff = {reg_model.coef_}\",\\\n",
    "          loc='left', fontsize=15)\n",
    "\n",
    "\n",
    "plt.plot(wdf.temp, prediction, c = \"red\", lw = 1, alpha = 0.5, label = \"Predictions\")\n",
    "\n",
    "plt.legend(fontsize=12, loc = 0) # loc -> location [0, 10]"
   ]
  },
  {
   "cell_type": "code",
   "execution_count": 170,
   "id": "78617d15",
   "metadata": {},
   "outputs": [
    {
     "name": "stdout",
     "output_type": "stream",
     "text": [
      "\n",
      "Intercept: 1.1336757355537121, coeffecient: [-0.03522051]\n",
      "\n",
      "Mean Absolute Error = 0.041421689636499476\n",
      "\n",
      "\n",
      "Predicted value of Humidity at temp 12.5 [K] is: [0.69341936]\n",
      "\n",
      "Predicted value of Humidity at temp 12.5 [K] is: 0.6934193572107629\n"
     ]
    },
    {
     "data": {
      "text/plain": [
       "<matplotlib.legend.Legend at 0x7f80d1083880>"
      ]
     },
     "execution_count": 170,
     "metadata": {},
     "output_type": "execute_result"
    },
    {
     "data": {
      "image/png": "[encoded data removed]",
      "text/plain": [
       "<Figure size 432x288 with 1 Axes>"
      ]
     },
     "metadata": {
      "needs_background": "light"
     },
     "output_type": "display_data"
    }
   ],
   "source": [
    "# Previously defined: \n",
    "features_df = wdf[['temp']]\n",
    "target_val  = wdf.Humidity\n",
    "\n",
    "from sklearn.metrics import mean_absolute_error\n",
    "\n",
    "# Define the model\n",
    "# LinearRegression(fit_intercept=True, normalize=False, copy_X=True)\n",
    "reg_model = LinearRegression()\n",
    "\n",
    "\n",
    "# fitting\n",
    "reg_model.fit(features_df, target_val)\n",
    "# Print fitted parameters\n",
    "print(f\"\\nIntercept: {reg_model.intercept_}, coeffecient: {reg_model.coef_}\")\n",
    "\n",
    "\n",
    "# What is the prediction ?\n",
    "        # Note: Make sure 'regressor (feature)' is again in the dataframe format\n",
    "prediction = reg_model.predict(wdf[['temp']])\n",
    "#display(prediction)\n",
    "\n",
    "\n",
    "# What is the Error?\n",
    "error = mean_absolute_error(target_val, prediction)\n",
    "print(f\"\\nMean Absolute Error = {error}\\n\")\n",
    "\n",
    "\n",
    "# How does prediction looks like? Actual Vs prediction\n",
    "    # --> Plot it with the actual data\n",
    "        # Plot options: s = point size, c = point color, alpha = transparency  \n",
    "plt.scatter(wdf.temp, wdf.Humidity, s = 25, c = \"blue\", alpha = 0.7, label = \"Data\")\n",
    "plt.xlabel(\"Temperature\", fontsize=15)\n",
    "plt.ylabel(\"Humidity\", fontsize=15)\n",
    "plt.xticks(fontsize=13, rotation=0)\n",
    "plt.yticks(fontsize=13, rotation=0)\n",
    "plt.title(f\"Model parameters:\\nItrcpt = {reg_model.intercept_}\\nCoeff = {reg_model.coef_}\",\\\n",
    "          loc='left', fontsize=15)\n",
    "\n",
    "\n",
    "plt.plot(wdf.temp, prediction, c = \"red\", lw = 1, alpha = 0.5, label = \"Predictions\")\n",
    "\n",
    "# ====================================================================================\n",
    "# Prediction at a given value\n",
    "temp1       = 12.5\n",
    "pred1       = reg_model.predict([[temp1]])\n",
    "\n",
    "print(f\"\\nPredicted value of Humidity at temp {temp1} [K] is: {pred1}\")\n",
    "print(f\"\\nPredicted value of Humidity at temp {temp1} [K] is: {pred1[0]}\")\n",
    "\n",
    "plt.scatter(temp1, pred1, color ='r', label = \"predicted value\")\n",
    "plt.vlines(x = temp1, ymin = 0.0, ymax = pred1, color = 'r')\n",
    "plt.hlines(y = pred1, xmin = 0.0, xmax = temp1, color = 'r')\n",
    "\n",
    "# ====================================================================================\n",
    "\n",
    "plt.legend(fontsize=12, loc = 0) # loc -> location [0, 10]\n",
    "#plt.xlim(-7,22)"
   ]
  },
  {
   "cell_type": "code",
   "execution_count": null,
   "id": "c571ecb2",
   "metadata": {},
   "outputs": [],
   "source": []
  }
 ],
 "metadata": {
  "kernelspec": {
   "display_name": "Python 3 (ipykernel)",
   "language": "python",
   "name": "python3"
  },
  "language_info": {
   "codemirror_mode": {
    "name": "ipython",
    "version": 3
   },
   "file_extension": ".py",
   "mimetype": "text/x-python",
   "name": "python",
   "nbconvert_exporter": "python",
   "pygments_lexer": "ipython3",
   "version": "3.9.7"
  }
 },
 "nbformat": 4,
 "nbformat_minor": 5
}
