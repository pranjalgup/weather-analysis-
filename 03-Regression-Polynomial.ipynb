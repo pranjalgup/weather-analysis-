{
 "cells": [
  {
   "cell_type": "code",
   "execution_count": 2,
   "id": "72d1eec9",
   "metadata": {},
   "outputs": [
    {
     "data": {
      "text/html": [
       "<div>\n",
       "<style scoped>\n",
       "    .dataframe tbody tr th:only-of-type {\n",
       "        vertical-align: middle;\n",
       "    }\n",
       "\n",
       "    .dataframe tbody tr th {\n",
       "        vertical-align: top;\n",
       "    }\n",
       "\n",
       "    .dataframe thead th {\n",
       "        text-align: right;\n",
       "    }\n",
       "</style>\n",
       "<table border=\"1\" class=\"dataframe\">\n",
       "  <thead>\n",
       "    <tr style=\"text-align: right;\">\n",
       "      <th></th>\n",
       "      <th>Pressure (millibars)</th>\n",
       "      <th>Humidity</th>\n",
       "    </tr>\n",
       "  </thead>\n",
       "  <tbody>\n",
       "    <tr>\n",
       "      <th>0</th>\n",
       "      <td>1014.40</td>\n",
       "      <td>0.62</td>\n",
       "    </tr>\n",
       "    <tr>\n",
       "      <th>1</th>\n",
       "      <td>1014.20</td>\n",
       "      <td>0.66</td>\n",
       "    </tr>\n",
       "    <tr>\n",
       "      <th>2</th>\n",
       "      <td>1014.47</td>\n",
       "      <td>0.79</td>\n",
       "    </tr>\n",
       "    <tr>\n",
       "      <th>3</th>\n",
       "      <td>1014.45</td>\n",
       "      <td>0.82</td>\n",
       "    </tr>\n",
       "    <tr>\n",
       "      <th>4</th>\n",
       "      <td>1014.49</td>\n",
       "      <td>0.83</td>\n",
       "    </tr>\n",
       "  </tbody>\n",
       "</table>\n",
       "</div>"
      ],
      "text/plain": [
       "   Pressure (millibars)  Humidity\n",
       "0               1014.40      0.62\n",
       "1               1014.20      0.66\n",
       "2               1014.47      0.79\n",
       "3               1014.45      0.82\n",
       "4               1014.49      0.83"
      ]
     },
     "metadata": {},
     "output_type": "display_data"
    },
    {
     "name": "stdout",
     "output_type": "stream",
     "text": [
      "<class 'pandas.core.frame.DataFrame'>\n",
      "RangeIndex: 25 entries, 0 to 24\n",
      "Data columns (total 2 columns):\n",
      " #   Column                Non-Null Count  Dtype  \n",
      "---  ------                --------------  -----  \n",
      " 0   Pressure (millibars)  25 non-null     float64\n",
      " 1   Humidity              25 non-null     float64\n",
      "dtypes: float64(2)\n",
      "memory usage: 528.0 bytes\n"
     ]
    },
    {
     "data": {
      "text/plain": [
       "None"
      ]
     },
     "metadata": {},
     "output_type": "display_data"
    }
   ],
   "source": [
    "# Imports\n",
    "# (1) pandas for reading the file\n",
    "# (2) matplotlib for plotting\n",
    "# (3) numpy for numerical python: Mathematical functions, arrays\n",
    "\n",
    "import pandas as pd\n",
    "import matplotlib.pyplot as plt\n",
    "\n",
    "import numpy as np\n",
    "\n",
    "wdf = pd.read_csv(\"data-files/WeatherDataPolynomial.csv\")\n",
    "display(wdf.head())\n",
    "display(wdf.info())"
   ]
  },
  {
   "cell_type": "code",
   "execution_count": 3,
   "id": "551b9c28",
   "metadata": {},
   "outputs": [
    {
     "data": {
      "text/html": [
       "<div>\n",
       "<style scoped>\n",
       "    .dataframe tbody tr th:only-of-type {\n",
       "        vertical-align: middle;\n",
       "    }\n",
       "\n",
       "    .dataframe tbody tr th {\n",
       "        vertical-align: top;\n",
       "    }\n",
       "\n",
       "    .dataframe thead th {\n",
       "        text-align: right;\n",
       "    }\n",
       "</style>\n",
       "<table border=\"1\" class=\"dataframe\">\n",
       "  <thead>\n",
       "    <tr style=\"text-align: right;\">\n",
       "      <th></th>\n",
       "      <th>Pressure</th>\n",
       "      <th>Humidity</th>\n",
       "    </tr>\n",
       "  </thead>\n",
       "  <tbody>\n",
       "    <tr>\n",
       "      <th>0</th>\n",
       "      <td>1014.40</td>\n",
       "      <td>0.62</td>\n",
       "    </tr>\n",
       "    <tr>\n",
       "      <th>1</th>\n",
       "      <td>1014.20</td>\n",
       "      <td>0.66</td>\n",
       "    </tr>\n",
       "    <tr>\n",
       "      <th>2</th>\n",
       "      <td>1014.47</td>\n",
       "      <td>0.79</td>\n",
       "    </tr>\n",
       "    <tr>\n",
       "      <th>3</th>\n",
       "      <td>1014.45</td>\n",
       "      <td>0.82</td>\n",
       "    </tr>\n",
       "    <tr>\n",
       "      <th>4</th>\n",
       "      <td>1014.49</td>\n",
       "      <td>0.83</td>\n",
       "    </tr>\n",
       "  </tbody>\n",
       "</table>\n",
       "</div>"
      ],
      "text/plain": [
       "   Pressure  Humidity\n",
       "0   1014.40      0.62\n",
       "1   1014.20      0.66\n",
       "2   1014.47      0.79\n",
       "3   1014.45      0.82\n",
       "4   1014.49      0.83"
      ]
     },
     "execution_count": 3,
     "metadata": {},
     "output_type": "execute_result"
    }
   ],
   "source": [
    "# Renaming the columns\n",
    "wdf.rename(columns={'Pressure (millibars)':'Pressure', 'Humidity':'Humidity'}, inplace=True)\n",
    "wdf.head()"
   ]
  },
  {
   "cell_type": "code",
   "execution_count": 4,
   "id": "2f2adaf8",
   "metadata": {},
   "outputs": [
    {
     "data": {
      "text/plain": [
       "(array([0.3, 0.4, 0.5, 0.6, 0.7, 0.8, 0.9]),\n",
       " [Text(0, 0, ''),\n",
       "  Text(0, 0, ''),\n",
       "  Text(0, 0, ''),\n",
       "  Text(0, 0, ''),\n",
       "  Text(0, 0, ''),\n",
       "  Text(0, 0, ''),\n",
       "  Text(0, 0, '')])"
      ]
     },
     "execution_count": 4,
     "metadata": {},
     "output_type": "execute_result"
    },
    {
     "data": {
      "image/png": "[encoded data removed]",
      "text/plain": [
       "<Figure size 432x288 with 1 Axes>"
      ]
     },
     "metadata": {
      "needs_background": "light"
     },
     "output_type": "display_data"
    }
   ],
   "source": [
    "# Data visualization: \n",
    "    # Check if Linear regression is applicable --> By plotting it\n",
    "\n",
    "plt.scatter(wdf.Pressure, wdf.Humidity, s = 15, c = \"blue\") # scatter Plot --> dots/points\n",
    "plt.xlabel(\"Pressure (millibars)\", fontsize=15)\n",
    "plt.ylabel(\"Humidity\", fontsize=15)\n",
    "plt.xticks(fontsize=13, rotation=0)\n",
    "plt.yticks(fontsize=13, rotation=0)"
   ]
  },
  {
   "cell_type": "code",
   "execution_count": 5,
   "id": "cfcbcbe8",
   "metadata": {},
   "outputs": [
    {
     "data": {
      "text/html": [
       "<div>\n",
       "<style scoped>\n",
       "    .dataframe tbody tr th:only-of-type {\n",
       "        vertical-align: middle;\n",
       "    }\n",
       "\n",
       "    .dataframe tbody tr th {\n",
       "        vertical-align: top;\n",
       "    }\n",
       "\n",
       "    .dataframe thead th {\n",
       "        text-align: right;\n",
       "    }\n",
       "</style>\n",
       "<table border=\"1\" class=\"dataframe\">\n",
       "  <thead>\n",
       "    <tr style=\"text-align: right;\">\n",
       "      <th></th>\n",
       "      <th>Pressure</th>\n",
       "    </tr>\n",
       "  </thead>\n",
       "  <tbody>\n",
       "    <tr>\n",
       "      <th>0</th>\n",
       "      <td>1014.40</td>\n",
       "    </tr>\n",
       "    <tr>\n",
       "      <th>1</th>\n",
       "      <td>1014.20</td>\n",
       "    </tr>\n",
       "    <tr>\n",
       "      <th>2</th>\n",
       "      <td>1014.47</td>\n",
       "    </tr>\n",
       "    <tr>\n",
       "      <th>3</th>\n",
       "      <td>1014.45</td>\n",
       "    </tr>\n",
       "    <tr>\n",
       "      <th>4</th>\n",
       "      <td>1014.49</td>\n",
       "    </tr>\n",
       "  </tbody>\n",
       "</table>\n",
       "</div>"
      ],
      "text/plain": [
       "   Pressure\n",
       "0   1014.40\n",
       "1   1014.20\n",
       "2   1014.47\n",
       "3   1014.45\n",
       "4   1014.49"
      ]
     },
     "metadata": {},
     "output_type": "display_data"
    },
    {
     "data": {
      "text/plain": [
       "0    0.62\n",
       "1    0.66\n",
       "2    0.79\n",
       "3    0.82\n",
       "4    0.83\n",
       "Name: Humidity, dtype: float64"
      ]
     },
     "metadata": {},
     "output_type": "display_data"
    }
   ],
   "source": [
    "from sklearn.linear_model import LinearRegression\n",
    "\n",
    "# Prepare data to input as an argument in LinReg model (2d-array)\n",
    "features_df = wdf[['Pressure']]\n",
    "target_val   = wdf.Humidity\n",
    "\n",
    "# Other option for reshaping the data (2 make it 2-d array)\n",
    "    # if the data has only one point --> .reshape(1,-1)\n",
    "    # (1) features_df = wdf['temp'].values.reshape(-1,1) # --> convert to 2d array\n",
    "    # (2) features_df = pd.DataFrame({'temp': wdf.temp}) # --> create dataframe\n",
    "    # display(features_df) # finally you can display your data\n",
    "\n",
    "display(features_df.head())\n",
    "display(target_val.head())"
   ]
  },
  {
   "cell_type": "markdown",
   "id": "0f885d16",
   "metadata": {},
   "source": [
    "# Lets apply linear regression to see the wrong result !"
   ]
  },
  {
   "cell_type": "code",
   "execution_count": 6,
   "id": "d22a73d1",
   "metadata": {},
   "outputs": [
    {
     "name": "stdout",
     "output_type": "stream",
     "text": [
      "\n",
      "Intercept: -30.33347021070683, coeffecient: [0.03057561]\n",
      "\n",
      "Mean Absolute Error = 0.11629240464838583\n",
      "\n"
     ]
    },
    {
     "data": {
      "text/plain": [
       "<matplotlib.legend.Legend at 0x7f9494e49fa0>"
      ]
     },
     "execution_count": 6,
     "metadata": {},
     "output_type": "execute_result"
    },
    {
     "data": {
      "image/png": "[encoded data removed]",
      "text/plain": [
       "<Figure size 432x288 with 1 Axes>"
      ]
     },
     "metadata": {
      "needs_background": "light"
     },
     "output_type": "display_data"
    }
   ],
   "source": [
    "# Previously defined: \n",
    "features_df = wdf[['Pressure']]\n",
    "target_val  = wdf.Humidity\n",
    "\n",
    "from sklearn.metrics import mean_absolute_error\n",
    "\n",
    "# Define the model\n",
    "# LinearRegression(fit_intercept=True, normalize=False, copy_X=True)\n",
    "reg_model = LinearRegression()\n",
    "\n",
    "\n",
    "# fitting\n",
    "reg_model.fit(features_df, target_val)\n",
    "# Print fitted parameters\n",
    "print(f\"\\nIntercept: {reg_model.intercept_}, coeffecient: {reg_model.coef_}\")\n",
    "\n",
    "\n",
    "# What is the prediction ?\n",
    "        # Note: Make sure 'regressor (feature)' is again in the dataframe format\n",
    "prediction = reg_model.predict(wdf[['Pressure']])\n",
    "#display(prediction)\n",
    "\n",
    "\n",
    "# What is the Error?\n",
    "error = mean_absolute_error(target_val, prediction)\n",
    "print(f\"\\nMean Absolute Error = {error}\\n\")\n",
    "\n",
    "\n",
    "# How does prediction looks like? Actual Vs prediction\n",
    "    # --> Plot it with the actual data\n",
    "        # Plot options: s = point size, c = point color, alpha = transparency  \n",
    "plt.scatter(wdf.Pressure, wdf.Humidity, s = 25, c = \"blue\", alpha = 0.7, label = \"Data\")\n",
    "plt.xlabel(\"Pressure\", fontsize=15)\n",
    "plt.ylabel(\"Humidity\", fontsize=15)\n",
    "plt.xticks(fontsize=13, rotation=0)\n",
    "plt.yticks(fontsize=13, rotation=0)\n",
    "plt.title(f\"Model parameters:\\nItrcpt = {reg_model.intercept_}\\nCoeff = {reg_model.coef_}\",\\\n",
    "          loc='left', fontsize=15)\n",
    "\n",
    "\n",
    "plt.plot(wdf.Pressure, prediction, c = \"red\", lw = 1, alpha = 0.5, label = \"Predictions\")\n",
    "\n",
    "plt.legend(fontsize=12, loc = 0) # loc -> location [0, 10]"
   ]
  },
  {
   "cell_type": "markdown",
   "id": "d75f00c0",
   "metadata": {},
   "source": [
    "# We have to apply Polynomial Regression:\n",
    "# $h_\\beta (x) = \\beta_0 + \\beta_1 x_1 + \\beta_2 x_1^2$\n",
    "\n",
    "# For that, we have to transform (pre-process) our data"
   ]
  },
  {
   "cell_type": "code",
   "execution_count": 9,
   "id": "14e05594",
   "metadata": {},
   "outputs": [
    {
     "data": {
      "text/html": [
       "<div>\n",
       "<style scoped>\n",
       "    .dataframe tbody tr th:only-of-type {\n",
       "        vertical-align: middle;\n",
       "    }\n",
       "\n",
       "    .dataframe tbody tr th {\n",
       "        vertical-align: top;\n",
       "    }\n",
       "\n",
       "    .dataframe thead th {\n",
       "        text-align: right;\n",
       "    }\n",
       "</style>\n",
       "<table border=\"1\" class=\"dataframe\">\n",
       "  <thead>\n",
       "    <tr style=\"text-align: right;\">\n",
       "      <th></th>\n",
       "      <th>Pressure</th>\n",
       "    </tr>\n",
       "  </thead>\n",
       "  <tbody>\n",
       "    <tr>\n",
       "      <th>0</th>\n",
       "      <td>1014.40</td>\n",
       "    </tr>\n",
       "    <tr>\n",
       "      <th>1</th>\n",
       "      <td>1014.20</td>\n",
       "    </tr>\n",
       "    <tr>\n",
       "      <th>2</th>\n",
       "      <td>1014.47</td>\n",
       "    </tr>\n",
       "    <tr>\n",
       "      <th>3</th>\n",
       "      <td>1014.45</td>\n",
       "    </tr>\n",
       "    <tr>\n",
       "      <th>4</th>\n",
       "      <td>1014.49</td>\n",
       "    </tr>\n",
       "    <tr>\n",
       "      <th>5</th>\n",
       "      <td>1014.52</td>\n",
       "    </tr>\n",
       "    <tr>\n",
       "      <th>6</th>\n",
       "      <td>1014.16</td>\n",
       "    </tr>\n",
       "    <tr>\n",
       "      <th>7</th>\n",
       "      <td>1014.24</td>\n",
       "    </tr>\n",
       "    <tr>\n",
       "      <th>8</th>\n",
       "      <td>1014.25</td>\n",
       "    </tr>\n",
       "    <tr>\n",
       "      <th>9</th>\n",
       "      <td>1013.96</td>\n",
       "    </tr>\n",
       "    <tr>\n",
       "      <th>10</th>\n",
       "      <td>1013.85</td>\n",
       "    </tr>\n",
       "    <tr>\n",
       "      <th>11</th>\n",
       "      <td>1013.04</td>\n",
       "    </tr>\n",
       "    <tr>\n",
       "      <th>12</th>\n",
       "      <td>1012.22</td>\n",
       "    </tr>\n",
       "    <tr>\n",
       "      <th>13</th>\n",
       "      <td>1011.44</td>\n",
       "    </tr>\n",
       "    <tr>\n",
       "      <th>14</th>\n",
       "      <td>1010.52</td>\n",
       "    </tr>\n",
       "    <tr>\n",
       "      <th>15</th>\n",
       "      <td>1009.83</td>\n",
       "    </tr>\n",
       "    <tr>\n",
       "      <th>16</th>\n",
       "      <td>1009.26</td>\n",
       "    </tr>\n",
       "    <tr>\n",
       "      <th>17</th>\n",
       "      <td>1008.76</td>\n",
       "    </tr>\n",
       "    <tr>\n",
       "      <th>18</th>\n",
       "      <td>1008.36</td>\n",
       "    </tr>\n",
       "    <tr>\n",
       "      <th>19</th>\n",
       "      <td>1008.11</td>\n",
       "    </tr>\n",
       "    <tr>\n",
       "      <th>20</th>\n",
       "      <td>1008.15</td>\n",
       "    </tr>\n",
       "    <tr>\n",
       "      <th>21</th>\n",
       "      <td>1007.85</td>\n",
       "    </tr>\n",
       "    <tr>\n",
       "      <th>22</th>\n",
       "      <td>1007.89</td>\n",
       "    </tr>\n",
       "    <tr>\n",
       "      <th>23</th>\n",
       "      <td>1007.36</td>\n",
       "    </tr>\n",
       "    <tr>\n",
       "      <th>24</th>\n",
       "      <td>1007.26</td>\n",
       "    </tr>\n",
       "  </tbody>\n",
       "</table>\n",
       "</div>"
      ],
      "text/plain": [
       "    Pressure\n",
       "0    1014.40\n",
       "1    1014.20\n",
       "2    1014.47\n",
       "3    1014.45\n",
       "4    1014.49\n",
       "5    1014.52\n",
       "6    1014.16\n",
       "7    1014.24\n",
       "8    1014.25\n",
       "9    1013.96\n",
       "10   1013.85\n",
       "11   1013.04\n",
       "12   1012.22\n",
       "13   1011.44\n",
       "14   1010.52\n",
       "15   1009.83\n",
       "16   1009.26\n",
       "17   1008.76\n",
       "18   1008.36\n",
       "19   1008.11\n",
       "20   1008.15\n",
       "21   1007.85\n",
       "22   1007.89\n",
       "23   1007.36\n",
       "24   1007.26"
      ]
     },
     "metadata": {},
     "output_type": "display_data"
    },
    {
     "data": {
      "text/plain": [
       "array([[1.00000000e+00, 1.01440000e+03, 1.02900736e+06],\n",
       "       [1.00000000e+00, 1.01420000e+03, 1.02860164e+06],\n",
       "       [1.00000000e+00, 1.01447000e+03, 1.02914938e+06],\n",
       "       [1.00000000e+00, 1.01445000e+03, 1.02910880e+06],\n",
       "       [1.00000000e+00, 1.01449000e+03, 1.02918996e+06],\n",
       "       [1.00000000e+00, 1.01452000e+03, 1.02925083e+06],\n",
       "       [1.00000000e+00, 1.01416000e+03, 1.02852051e+06],\n",
       "       [1.00000000e+00, 1.01424000e+03, 1.02868278e+06],\n",
       "       [1.00000000e+00, 1.01425000e+03, 1.02870306e+06],\n",
       "       [1.00000000e+00, 1.01396000e+03, 1.02811488e+06],\n",
       "       [1.00000000e+00, 1.01385000e+03, 1.02789182e+06],\n",
       "       [1.00000000e+00, 1.01304000e+03, 1.02625004e+06],\n",
       "       [1.00000000e+00, 1.01222000e+03, 1.02458933e+06],\n",
       "       [1.00000000e+00, 1.01144000e+03, 1.02301087e+06],\n",
       "       [1.00000000e+00, 1.01052000e+03, 1.02115067e+06],\n",
       "       [1.00000000e+00, 1.00983000e+03, 1.01975663e+06],\n",
       "       [1.00000000e+00, 1.00926000e+03, 1.01860575e+06],\n",
       "       [1.00000000e+00, 1.00876000e+03, 1.01759674e+06],\n",
       "       [1.00000000e+00, 1.00836000e+03, 1.01678989e+06],\n",
       "       [1.00000000e+00, 1.00811000e+03, 1.01628577e+06],\n",
       "       [1.00000000e+00, 1.00815000e+03, 1.01636642e+06],\n",
       "       [1.00000000e+00, 1.00785000e+03, 1.01576162e+06],\n",
       "       [1.00000000e+00, 1.00789000e+03, 1.01584225e+06],\n",
       "       [1.00000000e+00, 1.00736000e+03, 1.01477417e+06],\n",
       "       [1.00000000e+00, 1.00726000e+03, 1.01457271e+06]])"
      ]
     },
     "metadata": {},
     "output_type": "display_data"
    }
   ],
   "source": [
    "from sklearn.preprocessing import PolynomialFeatures\n",
    "\n",
    "pre_process      = PolynomialFeatures(degree = 2)\n",
    "poly_features_df = pre_process.fit_transform(features_df)\n",
    "\n",
    "display(features_df)\n",
    "display(poly_features_df)"
   ]
  },
  {
   "cell_type": "markdown",
   "id": "a392faa9",
   "metadata": {},
   "source": [
    "# Now apply Regression with third column, $P^2$"
   ]
  },
  {
   "cell_type": "code",
   "execution_count": 22,
   "id": "cac9cd21",
   "metadata": {},
   "outputs": [
    {
     "name": "stdout",
     "output_type": "stream",
     "text": [
      "\n",
      "Intercept: 29167.74604378328, coeffecient: [ 0.00000000e+00 -5.77225454e+01  2.85583573e-02]\n",
      "\n",
      "Mean Absolute Error = 0.04622925447876915\n",
      "\n"
     ]
    },
    {
     "data": {
      "text/plain": [
       "<matplotlib.legend.Legend at 0x7f88de31d250>"
      ]
     },
     "execution_count": 22,
     "metadata": {},
     "output_type": "execute_result"
    },
    {
     "data": {
      "image/png": "[encoded data removed]",
      "text/plain": [
       "<Figure size 432x288 with 1 Axes>"
      ]
     },
     "metadata": {
      "needs_background": "light"
     },
     "output_type": "display_data"
    }
   ],
   "source": [
    "# Remenber we have preprocessed the data\n",
    "# poly_features_df = pre_process.fit_transform(features_df)\n",
    "\n",
    "# Again define the model\n",
    "reg_model = LinearRegression()\n",
    "\n",
    "\n",
    "# fitting of pre-processed (polynomial) data\n",
    "reg_model.fit(poly_features_df, target_val)\n",
    "# Print fitted parameters\n",
    "print(f\"\\nIntercept: {reg_model.intercept_}, coeffecient: {reg_model.coef_}\")\n",
    "\n",
    "\n",
    "# What is the prediction ?\n",
    "        # Remember we have defined out pre-processed features\n",
    "        # poly_features_df = pre_process.fit_transform(features_df)\n",
    "prediction = reg_model.predict(poly_features_df)\n",
    "#display(prediction)\n",
    "\n",
    "\n",
    "# What is the Error?\n",
    "from sklearn.metrics import mean_absolute_error\n",
    "error = mean_absolute_error(target_val, prediction)\n",
    "print(f\"\\nMean Absolute Error = {error}\\n\")\n",
    "\n",
    "\n",
    "# How does prediction looks like? Actual Vs prediction\n",
    "    # --> Plot it with the actual data\n",
    "        # Plot options: s = point size, c = point color, alpha = transparency  \n",
    "plt.scatter(wdf.Pressure, wdf.Humidity, s = 25, c = \"blue\", alpha = 0.7, label = \"Data\")\n",
    "plt.xlabel(\"Pressure\", fontsize=15)\n",
    "plt.ylabel(\"Humidity\", fontsize=15)\n",
    "plt.xticks(fontsize=13, rotation=0)\n",
    "plt.yticks(fontsize=13, rotation=0)\n",
    "plt.title(f\"Model parameters:\\nItrcpt = {reg_model.intercept_}\\nCoeff = {reg_model.coef_}\",\\\n",
    "          loc='left', fontsize=15)\n",
    "\n",
    "\n",
    "plt.plot(wdf.Pressure, prediction, c = \"red\", lw = 1, alpha = 0.5, label = \"Predictions\")\n",
    "\n",
    "plt.legend(fontsize=12, loc = 0) # loc -> location [0, 10]"
   ]
  },
  {
   "cell_type": "code",
   "execution_count": 35,
   "id": "6a3e21e4",
   "metadata": {},
   "outputs": [
    {
     "name": "stdout",
     "output_type": "stream",
     "text": [
      "\n",
      "Predicted value of Humidity at temp 1013.5 [K] is: 0.5839638288889546\n"
     ]
    },
    {
     "data": {
      "text/plain": [
       "<matplotlib.collections.LineCollection at 0x7f88def5c550>"
      ]
     },
     "execution_count": 35,
     "metadata": {},
     "output_type": "execute_result"
    },
    {
     "data": {
      "image/png": "[encoded data removed]",
      "text/plain": [
       "<Figure size 432x288 with 1 Axes>"
      ]
     },
     "metadata": {
      "needs_background": "light"
     },
     "output_type": "display_data"
    }
   ],
   "source": [
    "plt.scatter(wdf.Pressure, wdf.Humidity, s = 25, c = \"blue\", alpha = 0.7, label = \"Data\")\n",
    "plt.xlabel(\"Pressure\", fontsize=15)\n",
    "plt.ylabel(\"Humidity\", fontsize=15)\n",
    "plt.xticks(fontsize=13, rotation=0)\n",
    "plt.yticks(fontsize=13, rotation=0)\n",
    "plt.title(f\"Model parameters:\\nItrcpt = {reg_model.intercept_}\\nCoeff = {reg_model.coef_}\",\\\n",
    "          loc='left', fontsize=15)\n",
    "\n",
    "\n",
    "plt.plot(wdf.Pressure, prediction, c = \"red\", lw = 1, alpha = 0.5, label = \"Predictions\")\n",
    "\n",
    "plt.legend(fontsize=12, loc = 0) # loc -> location [0, 10]\n",
    "\n",
    "\n",
    "# ====================================================================================\n",
    "# Prediction at a given value\n",
    "pres1      = 1013.5\n",
    "\n",
    "# prediction = reg_model.predict([pres1]) \n",
    "    # --> DOES NOT WORK: We can't do prediction \n",
    "    # because we have not pre-processed this data\n",
    "\n",
    "\n",
    "# Remember how we pre-processed the data:\n",
    "pred1 = reg_model.predict(pre_process.fit_transform([[pres1]]))\n",
    "\n",
    "print(f\"\\nPredicted value of Humidity at temp {pres1} [K] is: {pred1[0]}\")\n",
    "\n",
    "plt.scatter(pres1, pred1, color ='r', label = \"predicted value\")\n",
    "plt.vlines(x = pres1, ymin = 0.0, ymax = pred1, color = 'r')\n",
    "plt.hlines(y = pred1, xmin = 1007.0, xmax = pres1, color = 'r')\n",
    "\n",
    "# ===================================================================================="
   ]
  },
  {
   "cell_type": "code",
   "execution_count": null,
   "id": "11e18e2e",
   "metadata": {},
   "outputs": [],
   "source": []
  }
 ],
 "metadata": {
  "kernelspec": {
   "display_name": "Python 3 (ipykernel)",
   "language": "python",
   "name": "python3"
  },
  "language_info": {
   "codemirror_mode": {
    "name": "ipython",
    "version": 3
   },
   "file_extension": ".py",
   "mimetype": "text/x-python",
   "name": "python",
   "nbconvert_exporter": "python",
   "pygments_lexer": "ipython3",
   "version": "3.9.7"
  }
 },
 "nbformat": 4,
 "nbformat_minor": 5
}
